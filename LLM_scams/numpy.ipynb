{
 "cells": [
  {
   "metadata": {
    "ExecuteTime": {
     "end_time": "2024-10-27T01:51:34.777345Z",
     "start_time": "2024-10-27T01:51:33.862539Z"
    }
   },
   "cell_type": "code",
   "source": [
    "import pandas as pd\n",
    "\n",
    "df = pd.read_csv('labeled_phone_messages.csv')\n",
    "\n",
    "print(df.head())"
   ],
   "id": "e146d3b49c2c6362",
   "outputs": [
    {
     "name": "stdout",
     "output_type": "stream",
     "text": [
      "  ID                                             Source  \\\n",
      "0  0  https://www.youtube.com/watch?v=UG-KjCSt14k&ab...   \n",
      "1  1  https://www.patreon.com/JimBrowning/posts?filt...   \n",
      "2  2  https://www.youtube.com/watch?v=P6dhteJIY48&ab...   \n",
      "3  3  https://www.youtube.com/watch?v=HlTpousFPsM&ab...   \n",
      "4  4  https://www.youtube.com/watch?v=8sT121uUFOo&ab...   \n",
      "\n",
      "                                             Content  Char_Len label  \n",
      "0  hi yeah I've got an email here about a laptop ...       224  scam  \n",
      "1  Hello This is British Telecom technical depart...       398  scam  \n",
      "2  hello this call is from Interpol the purpose o...       186  scam  \n",
      "3  hi this is from Amazon customer service we hav...       361  scam  \n",
      "4  this is calling with the vehicle service depar...       411  scam  \n"
     ]
    }
   ],
   "execution_count": 1
  },
  {
   "metadata": {
    "ExecuteTime": {
     "end_time": "2024-10-27T01:53:04.409737Z",
     "start_time": "2024-10-27T01:53:04.402734Z"
    }
   },
   "cell_type": "code",
   "source": "print(df.isnull().sum())\n",
   "id": "d6a4dcb9222e9b4f",
   "outputs": [
    {
     "name": "stdout",
     "output_type": "stream",
     "text": [
      "ID          0\n",
      "Source      0\n",
      "Content     0\n",
      "Char_Len    0\n",
      "label       0\n",
      "dtype: int64\n"
     ]
    }
   ],
   "execution_count": 2
  },
  {
   "metadata": {
    "ExecuteTime": {
     "end_time": "2024-10-27T01:53:19.305180Z",
     "start_time": "2024-10-27T01:53:19.294529Z"
    }
   },
   "cell_type": "code",
   "source": "print(df['label'].value_counts())",
   "id": "194948ad9e64f36c",
   "outputs": [
    {
     "name": "stdout",
     "output_type": "stream",
     "text": [
      "label\n",
      "scam        543\n",
      "non_scam    500\n",
      "Name: count, dtype: int64\n"
     ]
    }
   ],
   "execution_count": 3
  },
  {
   "metadata": {
    "ExecuteTime": {
     "end_time": "2024-10-27T01:53:59.643849Z",
     "start_time": "2024-10-27T01:53:59.067707Z"
    }
   },
   "cell_type": "code",
   "source": [
    "import seaborn as sns\n",
    "import matplotlib.pyplot as plt\n",
    "\n",
    "sns.countplot(x='label', data=df)\n",
    "plt.title('Distribution of Scam vs Non-Scam Messages')\n",
    "plt.show()\n"
   ],
   "id": "170712de4345d9d7",
   "outputs": [
    {
     "data": {
      "text/plain": [
       "<Figure size 640x480 with 1 Axes>"
      ],
      "image/png": "[encoded data removed]"
     },
     "metadata": {},
     "output_type": "display_data"
    }
   ],
   "execution_count": 4
  },
  {
   "metadata": {
    "ExecuteTime": {
     "end_time": "2024-10-27T01:57:05.770334Z",
     "start_time": "2024-10-27T01:57:03.308101Z"
    }
   },
   "cell_type": "code",
   "source": [
    "import string\n",
    "import nltk\n",
    "from nltk.corpus import stopwords\n",
    "from nltk.stem import PorterStemmer, WordNetLemmatizer\n",
    "\n",
    "# Download NLTK data if not already done\n",
    "nltk.download('stopwords')\n",
    "nltk.download('wordnet')\n",
    "\n",
    "# Initialize tools\n",
    "stop_words = set(stopwords.words('english'))\n",
    "stemmer = PorterStemmer()\n",
    "lemmatizer = WordNetLemmatizer()\n",
    "\n",
    "def preprocess_text(text):\n",
    "    # Lowercase\n",
    "    text = text.lower()\n",
    "    # Remove punctuation\n",
    "    text = text.translate(str.maketrans('', '', string.punctuation))\n",
    "    # Tokenize\n",
    "    words = text.split()\n",
    "    # Remove stop words\n",
    "    words = [word for word in words if word not in stop_words]\n",
    "    # Stemming or Lemmatization\n",
    "    words = [lemmatizer.lemmatize(word) for word in words]\n",
    "    # Rejoin words\n",
    "    return ' '.join(words)\n",
    "\n",
    "# Apply preprocessing\n",
    "df['clean_content'] = df['Content'].apply(preprocess_text)\n"
   ],
   "id": "aa612aebd10cdd13",
   "outputs": [
    {
     "name": "stderr",
     "output_type": "stream",
     "text": [
      "[nltk_data] Downloading package stopwords to\n",
      "[nltk_data]     C:\\Users\\xxxxx\\AppData\\Roaming\\nltk_data...\n",
      "[nltk_data]   Package stopwords is already up-to-date!\n",
      "[nltk_data] Downloading package wordnet to\n",
      "[nltk_data]     C:\\Users\\xxxxx\\AppData\\Roaming\\nltk_data...\n",
      "[nltk_data]   Package wordnet is already up-to-date!\n"
     ]
    }
   ],
   "execution_count": 7
  },
  {
   "metadata": {
    "ExecuteTime": {
     "end_time": "2024-10-27T01:57:50.828119Z",
     "start_time": "2024-10-27T01:57:50.803355Z"
    }
   },
   "cell_type": "code",
   "source": "df.to_csv('preprocessed_dataset.csv', index=False)",
   "id": "68d5678482d222a9",
   "outputs": [],
   "execution_count": 9
  }
 ],
 "metadata": {
  "kernelspec": {
   "display_name": "Python 3",
   "language": "python",
   "name": "python3"
  },
  "language_info": {
   "codemirror_mode": {
    "name": "ipython",
    "version": 2
   },
   "file_extension": ".py",
   "mimetype": "text/x-python",
   "name": "python",
   "nbconvert_exporter": "python",
   "pygments_lexer": "ipython2",
   "version": "2.7.6"
  }
 },
 "nbformat": 4,
 "nbformat_minor": 5
}
